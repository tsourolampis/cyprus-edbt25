{
 "cells": [
  {
   "cell_type": "code",
   "execution_count": 1,
   "id": "c8f81b9f-0172-423b-b30f-9f3e034027fc",
   "metadata": {},
   "outputs": [],
   "source": [
    "import networkx as nx\n",
    "import numpy as np\n",
    "import random\n",
    "from math import floor\n",
    "\n",
    "def colorful_triangle_estimate(G, p, trials=10):\n",
    "    \"\"\"\n",
    "    Estimate the number of triangles using the colorful triangle counting algorithm.\n",
    "    \n",
    "    Parameters:\n",
    "    - G: undirected NetworkX graph\n",
    "    - p: sampling probability, used to set C = floor(1/p)\n",
    "    - trials: number of independent repetitions\n",
    "    \n",
    "    Returns:\n",
    "    - mean and std deviation of triangle estimates\n",
    "    \"\"\"\n",
    "    C = max(1, floor(1/p))\n",
    "    estimates = []\n",
    "    \n",
    "    nodes = list(G.nodes())\n",
    "    \n",
    "    for _ in range(trials):\n",
    "        # Assign each node a random color in {0, ..., C-1}\n",
    "        color = {u: random.randint(0, C - 1) for u in nodes}\n",
    "        \n",
    "        # Induce the monochromatic subgraph\n",
    "        H = nx.Graph()\n",
    "        H.add_nodes_from(nodes)\n",
    "        for u, v in G.edges():\n",
    "            if color[u] == color[v]:\n",
    "                H.add_edge(u, v)\n",
    "        \n",
    "        # Count triangles in H and scale\n",
    "        triangle_count = sum(nx.triangles(H).values()) // 3\n",
    "        estimate = triangle_count * (C**2)\n",
    "        estimates.append(estimate)\n",
    "    \n",
    "    return np.mean(estimates), np.std(estimates)\n"
   ]
  },
  {
   "cell_type": "code",
   "execution_count": 4,
   "id": "6a1a0f34-b9c9-424a-bf0c-cf22d7feb627",
   "metadata": {},
   "outputs": [
    {
     "name": "stdout",
     "output_type": "stream",
     "text": [
      "\n",
      "G(n, p) Random Graph\n",
      "True triangle count: 21381\n",
      "Colorful triangle estimate (mean ± std): 21470.8 ± 1327.5\n",
      "True triangle count: 631\n",
      "Colorful triangle estimate (mean ± std): 626.0 ± 214.8\n"
     ]
    }
   ],
   "source": [
    "# === Apply on G(n, p) ===\n",
    "n = 100\n",
    "p_edge = 0.5\n",
    "G_random = nx.erdos_renyi_graph(n, p_edge)\n",
    "\n",
    "# True triangle count for comparison\n",
    "true_triangles_random = sum(nx.triangles(G_random).values()) // 3\n",
    "\n",
    "# Run colorful triangle estimation\n",
    "p_sample = 0.4  # sampling probability (sets C = floor(1/p) = 5)\n",
    "est_mean_rand, est_std_rand = colorful_triangle_estimate(G_random, p_sample, trials=20)\n",
    "\n",
    "print(\"\\nG(n, p) Random Graph\")\n",
    "print(f\"True triangle count: {true_triangles_random}\")\n",
    "print(f\"Colorful triangle estimate (mean ± std): {est_mean_rand:.1f} ± {est_std_rand:.1f}\")\n",
    "\n",
    "\n",
    "# === Example usage on Davis Women projection ===\n",
    "G_bipartite = nx.davis_southern_women_graph()\n",
    "women_nodes = [n for n, d in G_bipartite.nodes(data=True) if d[\"bipartite\"] == 0]\n",
    "G_women = nx.bipartite.projected_graph(G_bipartite, women_nodes)\n",
    "\n",
    "true_triangle_count = sum(nx.triangles(G_women).values()) // 3\n",
    "p = 0.3\n",
    "est_mean, est_std = colorful_triangle_estimate(G_women, p, trials=20)\n",
    "\n",
    "print(f\"True triangle count: {true_triangle_count}\")\n",
    "print(f\"Colorful triangle estimate (mean ± std): {est_mean:.1f} ± {est_std:.1f}\")\n"
   ]
  },
  {
   "cell_type": "code",
   "execution_count": null,
   "id": "2bad0ebb-64d0-40d7-b874-b73a666e50f4",
   "metadata": {},
   "outputs": [],
   "source": []
  }
 ],
 "metadata": {
  "kernelspec": {
   "display_name": "Python 3 (ipykernel)",
   "language": "python",
   "name": "python3"
  },
  "language_info": {
   "codemirror_mode": {
    "name": "ipython",
    "version": 3
   },
   "file_extension": ".py",
   "mimetype": "text/x-python",
   "name": "python",
   "nbconvert_exporter": "python",
   "pygments_lexer": "ipython3",
   "version": "3.11.12"
  }
 },
 "nbformat": 4,
 "nbformat_minor": 5
}
