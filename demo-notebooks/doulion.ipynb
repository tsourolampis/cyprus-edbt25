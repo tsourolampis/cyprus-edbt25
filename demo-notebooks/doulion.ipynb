{
 "cells": [
  {
   "cell_type": "code",
   "execution_count": 1,
   "id": "ca98ea1c-c0b8-4052-aace-a1ac16dbb30b",
   "metadata": {},
   "outputs": [],
   "source": [
    "import networkx as nx\n",
    "import numpy as np\n",
    "import random\n",
    "import matplotlib.pyplot as plt"
   ]
  },
  {
   "cell_type": "code",
   "execution_count": 2,
   "id": "c9539e87-1f27-40f8-8fef-9cccab80b78e",
   "metadata": {},
   "outputs": [],
   "source": [
    "def doulion(G, p):\n",
    "    H = nx.Graph()\n",
    "    H.add_nodes_from(G.nodes())\n",
    "    for u, v in G.edges():\n",
    "        if random.random() < p:\n",
    "            H.add_edge(u, v)\n",
    "    return H\n",
    "\n",
    "def doulion_triangle_estimate(G, p, trials=10):\n",
    "    estimates = []\n",
    "    for _ in range(trials):\n",
    "        H = doulion(G, p)\n",
    "        count = sum(nx.triangles(H).values()) // 3\n",
    "        estimate = count / (p**3)\n",
    "        estimates.append(estimate)\n",
    "    return np.mean(estimates), np.std(estimates)"
   ]
  },
  {
   "cell_type": "code",
   "execution_count": 4,
   "id": "24badc32-6b73-4fa6-a4ae-4642830be17e",
   "metadata": {},
   "outputs": [
    {
     "name": "stdout",
     "output_type": "stream",
     "text": [
      "G(n, p) true triangle count: 15\n",
      "Doulion estimate (mean ± std): 14.5 ± 3.5\n",
      "\n",
      "Davis women projected graph true triangles: 631\n",
      "Doulion estimate (mean ± std): 664.5 ± 51.8\n"
     ]
    }
   ],
   "source": [
    "# === Part 1: Apply on G(n, p) random graph ===\n",
    "n, p_edge = 100, 0.05\n",
    "G_random = nx.erdos_renyi_graph(n, p_edge)\n",
    "true_triangles_random = sum(nx.triangles(G_random).values()) // 3\n",
    "\n",
    "p_sample = 0.8\n",
    "est_mean, est_std = doulion_triangle_estimate(G_random, p_sample)\n",
    "\n",
    "print(f\"G(n, p) true triangle count: {true_triangles_random}\")\n",
    "print(f\"Doulion estimate (mean ± std): {est_mean:.1f} ± {est_std:.1f}\")\n",
    "\n",
    "# === Part 2: Apply on women's projection ===\n",
    "G_bipartite = nx.davis_southern_women_graph()\n",
    "women_nodes = [n for n, d in G_bipartite.nodes(data=True) if d[\"bipartite\"] == 0]\n",
    "G_women = nx.bipartite.projected_graph(G_bipartite, women_nodes)\n",
    "\n",
    "true_triangles_women = sum(nx.triangles(G_women).values()) // 3\n",
    "est_mean_women, est_std_women = doulion_triangle_estimate(G_women, p_sample)\n",
    "\n",
    "print(f\"\\nDavis women projected graph true triangles: {true_triangles_women}\")\n",
    "print(f\"Doulion estimate (mean ± std): {est_mean_women:.1f} ± {est_std_women:.1f}\")\n"
   ]
  },
  {
   "cell_type": "markdown",
   "id": "57a87805-fb3e-4011-a91e-1eea904ced43",
   "metadata": {},
   "source": [
    "### References\n",
    "\n",
    "- Charalampos E. Tsourakakis, U. Kang, Gary L. Miller, and Christos Faloutsos.  \n",
    "  **Doulion: Counting Triangles in Massive Graphs with a Coin.**  \n",
    "  *Proceedings of the 15th ACM SIGKDD International Conference on Knowledge Discovery and Data Mining (KDD '09)*, 2009.  \n",
    "\n",
    "\n",
    "- Charalampos E. Tsourakakis, Mihail N. Kolountzakis, and Gary L. Miller.  \n",
    "  **Triangle Sparsifiers.**  \n",
    "  *Journal of Graph Algorithms and Applications*, Vol. 15, No. 6, pp. 703–726, 2011.  \n"
   ]
  },
  {
   "cell_type": "code",
   "execution_count": null,
   "id": "f16b2d6e-d66f-4aaf-89f5-4d2766a19344",
   "metadata": {},
   "outputs": [],
   "source": []
  }
 ],
 "metadata": {
  "kernelspec": {
   "display_name": "Python 3 (ipykernel)",
   "language": "python",
   "name": "python3"
  },
  "language_info": {
   "codemirror_mode": {
    "name": "ipython",
    "version": 3
   },
   "file_extension": ".py",
   "mimetype": "text/x-python",
   "name": "python",
   "nbconvert_exporter": "python",
   "pygments_lexer": "ipython3",
   "version": "3.11.12"
  }
 },
 "nbformat": 4,
 "nbformat_minor": 5
}
